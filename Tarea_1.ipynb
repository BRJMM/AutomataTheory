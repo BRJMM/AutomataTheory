{
  "nbformat": 4,
  "nbformat_minor": 0,
  "metadata": {
    "colab": {
      "provenance": []
    },
    "kernelspec": {
      "name": "python3",
      "display_name": "Python 3"
    },
    "language_info": {
      "name": "python"
    }
  },
  "cells": [
    {
      "cell_type": "markdown",
      "source": [
        "# Tarea 1 (2024)\n",
        "Profesor: Tomás de Camino Beck, Ph.D.\n"
      ],
      "metadata": {
        "id": "QOisiZS523HL"
      }
    },
    {
      "cell_type": "markdown",
      "source": [
        "---\n",
        "\n",
        "### Instrucciones Generales\n",
        "\n",
        "- **Entrega**: *3 de Septiembre* antes de media noche. La tarea debe ser enviada por un miembro del equipo\n",
        "-**Lectura**:  Gran parte de los problemas se basan en el capítulo 4 del libro, apoyado en los capítulos anteriores. Puede que tenga que revisar secciones no vistas en clase.\n",
        "\n",
        "- **Formato de Entrega:** Los problemas deben ser entregados como un archivo Jupyter Notebook (.ipynb) de Google Colab que incluya todas las soluciones, explicaciones, ejemplos y pruebas solicitadas. Enviar al email del profesor.\n",
        "- **Estructura del Informe:**\n",
        "  - **Equipo:** Indicar nombre completo e identificación de cada miebro\n",
        "  - **Introducción:** Breve introducción a cada problema, explicando el enfoque general.\n",
        "  - **Código:** Cada problema debe incluir el código bien comentado.\n",
        "  - **Ejemplos:** Deben incluirse ejemplos de uso del código con entradas específicas y resultados esperados.\n",
        "  - **Pruebas:** Incluir casos de prueba que demuestren la funcionalidad del código, con explicaciones de los resultados.\n",
        "  - **Conclusión:** Breve conclusión sobre cada problema, discutiendo cualquier desafío encontrado y cómo fue resuelto."
      ],
      "metadata": {
        "id": "Xd2t5Bj_2tGF"
      }
    },
    {
      "cell_type": "markdown",
      "source": [
        "# Base Source Code and utilities"
      ],
      "metadata": {
        "id": "ONDo2wLZuAS3"
      }
    },
    {
      "cell_type": "markdown",
      "source": [
        "## DFA"
      ],
      "metadata": {
        "id": "Y7SsjDj0uaR7"
      }
    },
    {
      "cell_type": "code",
      "source": [
        "class DFA:\n",
        "    def __init__(self, Q, Sigma, delta, q0, F):\n",
        "        self.Q = Q          # Conjunto de estados\n",
        "        self.Sigma = Sigma  # Alfabeto\n",
        "        self.delta = delta  # Función de transición\n",
        "        self.q0 = q0        # Estado inicial\n",
        "        self.F = F          # Conjunto de estados finales\n",
        "\n",
        "    def head(self, w):\n",
        "        \"\"\"Devuelve el primer símbolo de la palabra w.\"\"\"\n",
        "        return w[0] if w else None\n",
        "\n",
        "    def tail(self, w):\n",
        "        \"\"\"Devuelve la palabra w sin su primer símbolo.\"\"\"\n",
        "        return w[1:] if w else \"\"\n",
        "\n",
        "    def MemDFA(self, w, q):\n",
        "        if w == \"\":\n",
        "            return q in self.F\n",
        "        else:\n",
        "            a = self.head(w)        # Usando head(w)\n",
        "            w_tail = self.tail(w)   # Usando tail(w)\n",
        "            q_next = self.delta[q][a]\n",
        "            return self.MemDFA(w_tail, q_next)\n",
        "\n",
        "    def CompDFA(self):\n",
        "        # Paso 1: Inicializar Q', δ', q0' y F'\n",
        "        Q_prime = self.Q\n",
        "        delta_prime = self.delta\n",
        "        q0_prime = self.q0\n",
        "        F_prime = set()  # Inicialmente vacío\n",
        "\n",
        "        # Paso 2: Completar F'\n",
        "        for q in self.Q:\n",
        "            if q not in self.F:\n",
        "                F_prime.add(q)\n",
        "\n",
        "        # Retornar el nuevo DFA complementado\n",
        "        return DFA(Q_prime, self.Sigma, delta_prime, q0_prime, F_prime)\n"
      ],
      "metadata": {
        "id": "lJnrrmsuuF03"
      },
      "execution_count": null,
      "outputs": []
    },
    {
      "cell_type": "markdown",
      "source": [
        "## Solution"
      ],
      "metadata": {
        "id": "7ClY3W5-uLmS"
      }
    },
    {
      "cell_type": "markdown",
      "source": [
        "---\n",
        "\n",
        "#### **Problema 1: Construcción e Implementación de `RegtoNFA` con Expresiones Regulares Avanzadas**\n",
        "- **Descripción:**\n",
        "  - Implementa en Python el algoritmo `RegtoNFA` que convierte una expresión regular avanzada, que incluye operadores como repetición variable $\\{m,n\\}$, en un NFA (Autómata Finito No Determinista). Este NFA debe ser capaz de reconocer si algún prefijo de un texto dado pertenece al lenguaje $L(\\Sigma^*p)$."
      ],
      "metadata": {
        "id": "mXNWiQlqr0wK"
      }
    },
    {
      "cell_type": "code",
      "source": [],
      "metadata": {
        "id": "jX7RgD6Qs9S7"
      },
      "execution_count": null,
      "outputs": []
    },
    {
      "cell_type": "markdown",
      "source": [
        "- **Parte 2:** **Desafío Adicional:** Extiende el NFA para manejar operaciones de intersección y unión en la expresión regular. Justifica cada paso de la construcción y proporciona ejemplos complejos que no solo contengan concatenación y cierre de Kleene, sino también intersección y unión."
      ],
      "metadata": {
        "id": "-LPlBUTus7fR"
      }
    },
    {
      "cell_type": "code",
      "source": [],
      "metadata": {
        "id": "4XopAIEJryfb"
      },
      "execution_count": null,
      "outputs": []
    },
    {
      "cell_type": "markdown",
      "source": [
        "\n",
        "#### **Problema 2: Optimización de NFA mediante Eliminación de Transiciones $\\varepsilon$ y Minimización**\n",
        "- **Descripción:**\n",
        "  - Utiliza el NFA construido en el Problema 1, elimina las transiciones $\\varepsilon$ y luego aplica técnicas de minimización para reducir el número de estados manteniendo la equivalencia del autómata."
      ],
      "metadata": {
        "id": "UVfB2uj8tBQq"
      }
    },
    {
      "cell_type": "code",
      "source": [],
      "metadata": {
        "id": "vaFBZgh1tXKH"
      },
      "execution_count": null,
      "outputs": []
    },
    {
      "cell_type": "markdown",
      "source": [
        "- **Parte 2:** **Desafío Adicional:** Implementa un algoritmo de minimización de NFA basado en particiones de estados equivalentes. Realiza un análisis de eficiencia comparando el NFA original, el NFA sin transiciones $\\varepsilon$, y el NFA minimizado, en términos de cantidad de estados y transiciones."
      ],
      "metadata": {
        "id": "4ADBCWp2tUOA"
      }
    },
    {
      "cell_type": "code",
      "source": [],
      "metadata": {
        "id": "5-EFarDRtEoz"
      },
      "execution_count": null,
      "outputs": []
    },
    {
      "cell_type": "markdown",
      "source": [
        "#### **Problema 3: Simulación de `PatternMatchingNFA` con Optimización de Búsqueda**\n",
        "- **Descripción:**\n",
        "  - Implementa un simulador en Python que utilice el NFA minimizado del Problema 2 para realizar una coincidencia de patrones eficiente en un texto dado. El simulador debe optimizar la búsqueda mediante heurísticas que reduzcan el número de transiciones exploradas."
      ],
      "metadata": {
        "id": "z8Cgpxo3tFPj"
      }
    },
    {
      "cell_type": "code",
      "source": [],
      "metadata": {
        "id": "EzzjVJfutaD-"
      },
      "execution_count": null,
      "outputs": []
    },
    {
      "cell_type": "markdown",
      "source": [
        "- **Parte 2:** **Desafío Adicional:** Implementa una estrategia de búsqueda paralela para acelerar el proceso de coincidencia en textos grandes, utilizando múltiples hilos o procesos. Analiza el rendimiento de tu implementación en términos de tiempo de ejecución y uso de recursos."
      ],
      "metadata": {
        "id": "cL91D-ibtaZ4"
      }
    },
    {
      "cell_type": "code",
      "source": [],
      "metadata": {
        "id": "-wc1i_dMtJKm"
      },
      "execution_count": null,
      "outputs": []
    },
    {
      "cell_type": "markdown",
      "source": [
        "\n",
        "#### **Problema 4: Conversión de NFA a DFA y Manejo de la Explosión Exponencial de Estados**\n",
        "- **Descripción:**\n",
        "  - Convierte el NFA minimizado del Problema 2 en un DFA usando `NFAtoDFA`. Dado que la conversión de NFA a DFA puede resultar en una explosión exponencial de estados, implementa técnicas para manejar y mitigar este problema.\n"
      ],
      "metadata": {
        "id": "yYgLUuIjtJjD"
      }
    },
    {
      "cell_type": "code",
      "source": [],
      "metadata": {
        "id": "mt5A0H1VtdSm"
      },
      "execution_count": null,
      "outputs": []
    },
    {
      "cell_type": "markdown",
      "source": [
        "- **Parte 2:** **Desafío Adicional:** Diseña e implementa un algoritmo de conversión incremental que solo construya partes del DFA según sea necesario durante la coincidencia de patrones. Esto incluye el concepto de \"DFA bajo demanda\". Evalúa cómo esta técnica afecta el rendimiento en comparación con un DFA preconstruido completo."
      ],
      "metadata": {
        "id": "2GG3i05XtdpF"
      }
    },
    {
      "cell_type": "code",
      "source": [],
      "metadata": {
        "id": "KrkBoKAftMWQ"
      },
      "execution_count": null,
      "outputs": []
    },
    {
      "cell_type": "markdown",
      "source": [
        "#### **Problema 5: Simulación de `PatternMatchingDFA` con Memorización y Predicción**\n",
        "- **Descripción:**\n",
        "  - Implementa un simulador para el DFA obtenido en el Problema 4. Para mejorar la eficiencia, incorpora técnicas de memorización (almacenamiento en caché de resultados de subproblemas) y predicción de transiciones, anticipando las siguientes letras en el texto.\n"
      ],
      "metadata": {
        "id": "rYxKB-5BtNBA"
      }
    },
    {
      "cell_type": "code",
      "source": [],
      "metadata": {
        "id": "yvebcQuCtifX"
      },
      "execution_count": null,
      "outputs": []
    },
    {
      "cell_type": "markdown",
      "source": [
        "- **Parte 2:** **Desafío Adicional:** Extiende el simulador para manejar textos de gran tamaño, donde se requieren estrategias de almacenamiento y recuperación de datos eficientes. Esto podría incluir la implementación de estructuras de datos avanzadas como árboles de sufijos o tries para gestionar la búsqueda de patrones en grandes volúmenes de texto."
      ],
      "metadata": {
        "id": "CH3bcfNRti8a"
      }
    },
    {
      "cell_type": "code",
      "source": [],
      "metadata": {
        "id": "IXVzcL3BtPeu"
      },
      "execution_count": null,
      "outputs": []
    },
    {
      "cell_type": "markdown",
      "source": [
        "\n",
        "\n",
        "#### **Problema 6: Comparación Empírica y Teórica de `PatternMatchingNFA` vs. `PatternMatchingDFA` en Escenarios Complejos**\n",
        "- **Descripción:**\n",
        "  - Realiza un estudio comparativo entre los algoritmos `PatternMatchingNFA` y `PatternMatchingDFA` en términos de eficiencia, uso de memoria y aplicabilidad en escenarios reales con textos y patrones de alta complejidad.\n",
        "\n"
      ],
      "metadata": {
        "id": "jrbC5dwy02rl"
      }
    },
    {
      "cell_type": "code",
      "source": [],
      "metadata": {
        "id": "h4nPZ--etlQX"
      },
      "execution_count": null,
      "outputs": []
    },
    {
      "cell_type": "markdown",
      "source": [
        "- **Parte 2:** **Desafío Adicional:** Implementa un modelo híbrido que combine las ventajas del NFA y DFA, utilizando el NFA en etapas tempranas para filtrar posibles coincidencias y el DFA para validar las coincidencias finales. Evalúa este enfoque en comparación con el uso exclusivo de NFA o DFA en términos de precisión y rendimiento."
      ],
      "metadata": {
        "id": "H75AJtQltlir"
      }
    },
    {
      "cell_type": "code",
      "source": [],
      "metadata": {
        "id": "CK92yX4YtRMk"
      },
      "execution_count": null,
      "outputs": []
    }
  ]
}